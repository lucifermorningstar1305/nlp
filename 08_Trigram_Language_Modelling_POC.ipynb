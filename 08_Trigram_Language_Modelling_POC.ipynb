{
 "cells": [
  {
   "cell_type": "code",
   "execution_count": 11,
   "metadata": {},
   "outputs": [],
   "source": [
    "import numpy as np\n",
    "import pandas as pd\n",
    "import nltk\n",
    "import string\n",
    "from nltk.corpus import reuters\n",
    "from nltk import bigrams, trigrams\n",
    "from collections import Counter, defaultdict"
   ]
  },
  {
   "cell_type": "code",
   "execution_count": 3,
   "metadata": {},
   "outputs": [],
   "source": [
    "model = defaultdict(lambda: defaultdict(lambda: 0))"
   ]
  },
  {
   "cell_type": "code",
   "execution_count": 4,
   "metadata": {},
   "outputs": [],
   "source": [
    "for sents in reuters.sents():\n",
    "    for w1, w2, w3 in trigrams(sents, pad_right=True, pad_left=True):\n",
    "        model[(w1, w2)][w3] += 1"
   ]
  },
  {
   "cell_type": "code",
   "execution_count": 5,
   "metadata": {},
   "outputs": [],
   "source": [
    "for (w1, w2) in model:\n",
    "    total_count = float(sum(model[(w1, w2)].values()))\n",
    "    \n",
    "    for w3 in model[(w1, w2)]:\n",
    "        model[(w1, w2)][w3] /= total_count"
   ]
  },
  {
   "cell_type": "code",
   "execution_count": 10,
   "metadata": {},
   "outputs": [
    {
     "name": "stdout",
     "output_type": "stream",
     "text": [
      "['This', 'is', 'expected', 'on', 'or', 'around', 'April', '11', 'from', '111', ',', '545', 'Revs', '5', '.', '07', '510', '.', '4', 'MM', '.', None, None]\n"
     ]
    }
   ],
   "source": [
    "start_tokens = [\"This\", \"is\"]\n",
    "sents = []\n",
    "sents.extend(start_tokens)\n",
    "\n",
    "\n",
    "\n",
    "finished = False\n",
    "while not finished:\n",
    "    \n",
    "    tokens = list((k, v) for k, v in sorted(model[tuple(start_tokens)].items(), key=lambda x: x[1]))\n",
    "    if len(tokens) == 0:\n",
    "        break\n",
    "    next_word = tokens[0][0]\n",
    "    sents.append(next_word)\n",
    "    start_tokens = sents[-2:]\n",
    "    if start_tokens == [None, None]:\n",
    "        finished = True\n",
    "\n",
    "print(sents)"
   ]
  },
  {
   "cell_type": "code",
   "execution_count": 16,
   "metadata": {},
   "outputs": [
    {
     "name": "stdout",
     "output_type": "stream",
     "text": [
      " This is expected on or around April 11 from 111, 545 Revs 5. 07 510. 4 MM.\n"
     ]
    }
   ],
   "source": [
    "final_sent = \"\"\n",
    "for tokens in sents:\n",
    "    if tokens == None:\n",
    "        continue\n",
    "    elif tokens not in string.punctuation:\n",
    "        final_sent += \" \"+tokens\n",
    "    else:\n",
    "        final_sent += tokens\n",
    "        \n",
    "print(final_sent)"
   ]
  },
  {
   "cell_type": "code",
   "execution_count": null,
   "metadata": {},
   "outputs": [],
   "source": []
  }
 ],
 "metadata": {
  "kernelspec": {
   "display_name": "Python 3",
   "language": "python",
   "name": "python3"
  },
  "language_info": {
   "codemirror_mode": {
    "name": "ipython",
    "version": 3
   },
   "file_extension": ".py",
   "mimetype": "text/x-python",
   "name": "python",
   "nbconvert_exporter": "python",
   "pygments_lexer": "ipython3",
   "version": "3.8.3"
  }
 },
 "nbformat": 4,
 "nbformat_minor": 4
}
