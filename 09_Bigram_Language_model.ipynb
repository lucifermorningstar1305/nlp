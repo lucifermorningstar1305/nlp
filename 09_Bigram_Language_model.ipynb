{
 "cells": [
  {
   "cell_type": "code",
   "execution_count": 1,
   "metadata": {},
   "outputs": [],
   "source": [
    "import numpy as np\n",
    "import nltk\n",
    "import string\n",
    "from nltk import bigrams\n",
    "from collections import Counter, defaultdict"
   ]
  },
  {
   "cell_type": "code",
   "execution_count": 2,
   "metadata": {},
   "outputs": [],
   "source": [
    "toy_corpus = [\"This is the house that Jack built\", \"This is the malt\", \n",
    "              \"That lay in the house that Jack built\", \"This is the rat\",\n",
    "             \"That ate the malt\", \"That lay in the house that Jack built\",\n",
    "             \"This is the cat\", \"That killed the rat\", \"That ate the malt\", \n",
    "             \"That lay in the house that Jack built\"]"
   ]
  },
  {
   "cell_type": "markdown",
   "metadata": {},
   "source": [
    "# Demonstration of bigrams working"
   ]
  },
  {
   "cell_type": "code",
   "execution_count": 3,
   "metadata": {},
   "outputs": [
    {
     "name": "stdout",
     "output_type": "stream",
     "text": [
      "<start> this\n",
      "this is\n",
      "is the\n",
      "the house\n",
      "house that\n",
      "that jack\n",
      "jack built\n",
      "built <end>\n",
      "----------\n",
      "<start> this\n",
      "this is\n",
      "is the\n",
      "the malt\n",
      "malt <end>\n",
      "----------\n",
      "<start> that\n",
      "that lay\n",
      "lay in\n",
      "in the\n",
      "the house\n",
      "house that\n",
      "that jack\n",
      "jack built\n",
      "built <end>\n",
      "----------\n",
      "<start> this\n",
      "this is\n",
      "is the\n",
      "the rat\n",
      "rat <end>\n",
      "----------\n",
      "<start> that\n",
      "that ate\n",
      "ate the\n",
      "the malt\n",
      "malt <end>\n",
      "----------\n",
      "<start> that\n",
      "that lay\n",
      "lay in\n",
      "in the\n",
      "the house\n",
      "house that\n",
      "that jack\n",
      "jack built\n",
      "built <end>\n",
      "----------\n",
      "<start> this\n",
      "this is\n",
      "is the\n",
      "the cat\n",
      "cat <end>\n",
      "----------\n",
      "<start> that\n",
      "that killed\n",
      "killed the\n",
      "the rat\n",
      "rat <end>\n",
      "----------\n",
      "<start> that\n",
      "that ate\n",
      "ate the\n",
      "the malt\n",
      "malt <end>\n",
      "----------\n",
      "<start> that\n",
      "that lay\n",
      "lay in\n",
      "in the\n",
      "the house\n",
      "house that\n",
      "that jack\n",
      "jack built\n",
      "built <end>\n",
      "----------\n"
     ]
    }
   ],
   "source": [
    "for sents in toy_corpus:\n",
    "    sents = sents.lower()\n",
    "    sents = f\"<start> {sents} <end>\"\n",
    "    for w1, w2 in bigrams(sents.split()):\n",
    "        print(w1, w2)\n",
    "    print(\"-\"*10)"
   ]
  },
  {
   "cell_type": "markdown",
   "metadata": {},
   "source": [
    "# Define the model"
   ]
  },
  {
   "cell_type": "code",
   "execution_count": 4,
   "metadata": {},
   "outputs": [],
   "source": [
    "model = defaultdict(lambda: defaultdict(lambda: 0)) # This will be dictionary of \n",
    "                                                    # dictionary where each value of child dictionary\n",
    "                                                    # will be initialized to 0"
   ]
  },
  {
   "cell_type": "code",
   "execution_count": 5,
   "metadata": {},
   "outputs": [],
   "source": [
    "for sents in toy_corpus:\n",
    "    sents = sents.lower()\n",
    "    sents = f\"<start> {sents} <end>\" # Here <start> and <end> are the fake tokens that will help to identify\n",
    "                                     # the sentence limits\n",
    "    for w1, w2 in bigrams(sents.split()):\n",
    "        model[w1][w2] += 1 # Get the raw count of each bigram tokens"
   ]
  },
  {
   "cell_type": "markdown",
   "metadata": {},
   "source": [
    "## Explanation of the above code:\n",
    "\n",
    "The bigram tokens of our toy_corpus is shown above, what the above piece of code does is simple it calculates the count of bigram tokens as follows :\n",
    "\n",
    "```\n",
    "{\n",
    "   That : { Jack : 4, lay : 3, ate: 2, killed : 1}, \n",
    "   This : {is : 4}\n",
    "}\n",
    "```"
   ]
  },
  {
   "cell_type": "code",
   "execution_count": 6,
   "metadata": {},
   "outputs": [
    {
     "data": {
      "text/plain": [
       "defaultdict(<function __main__.<lambda>()>,\n",
       "            {'<start>': defaultdict(<function __main__.<lambda>.<locals>.<lambda>()>,\n",
       "                         {'this': 4, 'that': 6}),\n",
       "             'this': defaultdict(<function __main__.<lambda>.<locals>.<lambda>()>,\n",
       "                         {'is': 4}),\n",
       "             'is': defaultdict(<function __main__.<lambda>.<locals>.<lambda>()>,\n",
       "                         {'the': 4}),\n",
       "             'the': defaultdict(<function __main__.<lambda>.<locals>.<lambda>()>,\n",
       "                         {'house': 4, 'malt': 3, 'rat': 2, 'cat': 1}),\n",
       "             'house': defaultdict(<function __main__.<lambda>.<locals>.<lambda>()>,\n",
       "                         {'that': 4}),\n",
       "             'that': defaultdict(<function __main__.<lambda>.<locals>.<lambda>()>,\n",
       "                         {'jack': 4, 'lay': 3, 'ate': 2, 'killed': 1}),\n",
       "             'jack': defaultdict(<function __main__.<lambda>.<locals>.<lambda>()>,\n",
       "                         {'built': 4}),\n",
       "             'built': defaultdict(<function __main__.<lambda>.<locals>.<lambda>()>,\n",
       "                         {'<end>': 4}),\n",
       "             'malt': defaultdict(<function __main__.<lambda>.<locals>.<lambda>()>,\n",
       "                         {'<end>': 3}),\n",
       "             'lay': defaultdict(<function __main__.<lambda>.<locals>.<lambda>()>,\n",
       "                         {'in': 3}),\n",
       "             'in': defaultdict(<function __main__.<lambda>.<locals>.<lambda>()>,\n",
       "                         {'the': 3}),\n",
       "             'rat': defaultdict(<function __main__.<lambda>.<locals>.<lambda>()>,\n",
       "                         {'<end>': 2}),\n",
       "             'ate': defaultdict(<function __main__.<lambda>.<locals>.<lambda>()>,\n",
       "                         {'the': 2}),\n",
       "             'cat': defaultdict(<function __main__.<lambda>.<locals>.<lambda>()>,\n",
       "                         {'<end>': 1}),\n",
       "             'killed': defaultdict(<function __main__.<lambda>.<locals>.<lambda>()>,\n",
       "                         {'the': 1})})"
      ]
     },
     "execution_count": 6,
     "metadata": {},
     "output_type": "execute_result"
    }
   ],
   "source": [
    "# Let's see the model if it verifies the above explanation\n",
    "model"
   ]
  },
  {
   "cell_type": "markdown",
   "metadata": {},
   "source": [
    "Looks like what I explained it really reflects what's done by the code\n",
    "\n",
    "Moving on to the <b>Bigram Model</b>\n",
    "\n",
    "\n",
    "# Bigram Model\n",
    "\n",
    "$$\n",
    "\\begin{equation}\n",
    "p(w) = \\prod_{i=1}^{k+1} p(w_{i} | w_{i-1})\n",
    "\\end{equation}\n",
    "$$\n",
    "\n",
    "where,\n",
    "\n",
    "$$\n",
    "\\begin{equation}\n",
    "p(w_i | w_{i-1}) = \\frac{c(w_{i-1}w_{i})}{\\sum_{w_{i}} c(w_{i-1}w_{i})} \n",
    "                 = \\frac{c(w_{i-1}w_{i})}{c(w_{i-1})}\n",
    "\\end{equation}\n",
    "$$\n",
    "\n",
    "\n",
    "To explain the equation (2) let's consider the following example:\n",
    "\n",
    "```\n",
    "{\n",
    "   that : { jack : 4, lay : 3, ate: 2, killed : 1}, \n",
    "   this : {is : 4}\n",
    "}\n",
    "```\n",
    "\n",
    "If we are to calculate the probability of `p(ate | that)` we will do the following calculation\n",
    "\n",
    "$$\n",
    "\\begin{equation}\n",
    "p(ate | that) = \\frac{c(that \\ ate)}{c(that)} = \\frac{2}{10}\n",
    "\\end{equation}\n",
    "$$\n",
    "\n",
    "Now the above scenario looks pretty decent but what does $\\frac{c(w_{i-1}w_{i})}{\\sum_{w_{i}} c(w_{i-1}w_{i})}$   mean???? \n",
    "\n",
    "Well the summation term at the end means that the word $w_{i-1}$, in our case it's `that`, occurs with different words and their count i.e. \n",
    "```\n",
    "that : { jack : 4, lay : 3, ate: 2, killed : 1}\n",
    "\n",
    "```\n",
    "\n",
    "Now if we sum all those values we will get $10$ as a result which is equal to the denominator in equation (3)."
   ]
  },
  {
   "cell_type": "code",
   "execution_count": 7,
   "metadata": {},
   "outputs": [
    {
     "data": {
      "text/plain": [
       "defaultdict(<function __main__.<lambda>()>,\n",
       "            {'<start>': defaultdict(<function __main__.<lambda>.<locals>.<lambda>()>,\n",
       "                         {'this': 0.4, 'that': 0.6}),\n",
       "             'this': defaultdict(<function __main__.<lambda>.<locals>.<lambda>()>,\n",
       "                         {'is': 1.0}),\n",
       "             'is': defaultdict(<function __main__.<lambda>.<locals>.<lambda>()>,\n",
       "                         {'the': 1.0}),\n",
       "             'the': defaultdict(<function __main__.<lambda>.<locals>.<lambda>()>,\n",
       "                         {'house': 0.4, 'malt': 0.3, 'rat': 0.2, 'cat': 0.1}),\n",
       "             'house': defaultdict(<function __main__.<lambda>.<locals>.<lambda>()>,\n",
       "                         {'that': 1.0}),\n",
       "             'that': defaultdict(<function __main__.<lambda>.<locals>.<lambda>()>,\n",
       "                         {'jack': 0.4, 'lay': 0.3, 'ate': 0.2, 'killed': 0.1}),\n",
       "             'jack': defaultdict(<function __main__.<lambda>.<locals>.<lambda>()>,\n",
       "                         {'built': 1.0}),\n",
       "             'built': defaultdict(<function __main__.<lambda>.<locals>.<lambda>()>,\n",
       "                         {'<end>': 1.0}),\n",
       "             'malt': defaultdict(<function __main__.<lambda>.<locals>.<lambda>()>,\n",
       "                         {'<end>': 1.0}),\n",
       "             'lay': defaultdict(<function __main__.<lambda>.<locals>.<lambda>()>,\n",
       "                         {'in': 1.0}),\n",
       "             'in': defaultdict(<function __main__.<lambda>.<locals>.<lambda>()>,\n",
       "                         {'the': 1.0}),\n",
       "             'rat': defaultdict(<function __main__.<lambda>.<locals>.<lambda>()>,\n",
       "                         {'<end>': 1.0}),\n",
       "             'ate': defaultdict(<function __main__.<lambda>.<locals>.<lambda>()>,\n",
       "                         {'the': 1.0}),\n",
       "             'cat': defaultdict(<function __main__.<lambda>.<locals>.<lambda>()>,\n",
       "                         {'<end>': 1.0}),\n",
       "             'killed': defaultdict(<function __main__.<lambda>.<locals>.<lambda>()>,\n",
       "                         {'the': 1.0})})"
      ]
     },
     "execution_count": 7,
     "metadata": {},
     "output_type": "execute_result"
    }
   ],
   "source": [
    "# As per the previous explanation let's built the model.\n",
    "\n",
    "for w1 in model:\n",
    "    total_count = float(sum(model[w1].values())) # equation (2) summation denominator operation\n",
    "    for w2 in model[w1]:\n",
    "        model[w1][w2] /= total_count # Converting them into probabilities\n",
    "        \n",
    "# Let's see the model now \n",
    "model"
   ]
  },
  {
   "cell_type": "markdown",
   "metadata": {},
   "source": [
    "# Let's see what kind of text our model generates"
   ]
  },
  {
   "cell_type": "code",
   "execution_count": 8,
   "metadata": {},
   "outputs": [
    {
     "name": "stdout",
     "output_type": "stream",
     "text": [
      "['this', 'is', 'the', 'house', 'that', 'jack', 'built', '<end>']\n"
     ]
    }
   ],
   "source": [
    "start_tokens = \"this\"\n",
    "sents = []\n",
    "sents.append(start_tokens)\n",
    "\n",
    "finished = False\n",
    "\n",
    "while not finished:\n",
    "    tokens = [(k,v) for k,v in sorted(model[start_tokens].items(), key=lambda x: x[1], reverse=True)]\n",
    "    if len(tokens) == 0:\n",
    "        break\n",
    "        \n",
    "    next_word = tokens[0][0]\n",
    "    sents.append(next_word)\n",
    "    start_tokens = next_word\n",
    "    \n",
    "    if start_tokens == \"<end>\":\n",
    "        finished = True\n",
    "        \n",
    "print(sents)"
   ]
  },
  {
   "cell_type": "code",
   "execution_count": 9,
   "metadata": {},
   "outputs": [
    {
     "name": "stdout",
     "output_type": "stream",
     "text": [
      "Final Sentence is :  this is the house that jack built\n"
     ]
    }
   ],
   "source": [
    "finished_sents = \"\"\n",
    "\n",
    "for tokens in sents:\n",
    "    \n",
    "    if tokens in [\"<start>\", \"<end>\"]:\n",
    "        continue\n",
    "    \n",
    "    if tokens not in string.punctuation:\n",
    "        finished_sents += \" \"+ tokens\n",
    "        \n",
    "    else:\n",
    "        finished_sents += tokens\n",
    "        \n",
    "        \n",
    "print(f\"Final Sentence is : {finished_sents}\")"
   ]
  },
  {
   "cell_type": "code",
   "execution_count": null,
   "metadata": {},
   "outputs": [],
   "source": []
  }
 ],
 "metadata": {
  "kernelspec": {
   "display_name": "Python 3",
   "language": "python",
   "name": "python3"
  },
  "language_info": {
   "codemirror_mode": {
    "name": "ipython",
    "version": 3
   },
   "file_extension": ".py",
   "mimetype": "text/x-python",
   "name": "python",
   "nbconvert_exporter": "python",
   "pygments_lexer": "ipython3",
   "version": "3.8.3"
  }
 },
 "nbformat": 4,
 "nbformat_minor": 4
}
