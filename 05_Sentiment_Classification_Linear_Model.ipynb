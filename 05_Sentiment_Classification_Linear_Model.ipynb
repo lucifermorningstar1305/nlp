{
 "cells": [
  {
   "cell_type": "code",
   "execution_count": 23,
   "metadata": {},
   "outputs": [],
   "source": [
    "import numpy as np\n",
    "import pandas as pd\n",
    "import matplotlib.pyplot as plt\n",
    "import seaborn as sns\n",
    "from utils import preprocess\n",
    "from sklearn.model_selection import train_test_split\n",
    "from sklearn.linear_model import LogisticRegression\n",
    "from sklearn.feature_extraction.text import TfidfVectorizer\n",
    "import os\n",
    "import sys\n",
    "import joblib\n",
    "from jupyterthemes import jtplot\n",
    "jtplot.style(context=\"notebook\", theme=\"monokai\", ticks=True)"
   ]
  },
  {
   "cell_type": "code",
   "execution_count": 2,
   "metadata": {},
   "outputs": [
    {
     "data": {
      "text/html": [
       "<div>\n",
       "<style scoped>\n",
       "    .dataframe tbody tr th:only-of-type {\n",
       "        vertical-align: middle;\n",
       "    }\n",
       "\n",
       "    .dataframe tbody tr th {\n",
       "        vertical-align: top;\n",
       "    }\n",
       "\n",
       "    .dataframe thead th {\n",
       "        text-align: right;\n",
       "    }\n",
       "</style>\n",
       "<table border=\"1\" class=\"dataframe\">\n",
       "  <thead>\n",
       "    <tr style=\"text-align: right;\">\n",
       "      <th></th>\n",
       "      <th>review</th>\n",
       "      <th>sentiment</th>\n",
       "    </tr>\n",
       "  </thead>\n",
       "  <tbody>\n",
       "    <tr>\n",
       "      <th>0</th>\n",
       "      <td>One of the other reviewers has mentioned that ...</td>\n",
       "      <td>positive</td>\n",
       "    </tr>\n",
       "    <tr>\n",
       "      <th>1</th>\n",
       "      <td>A wonderful little production. &lt;br /&gt;&lt;br /&gt;The...</td>\n",
       "      <td>positive</td>\n",
       "    </tr>\n",
       "    <tr>\n",
       "      <th>2</th>\n",
       "      <td>I thought this was a wonderful way to spend ti...</td>\n",
       "      <td>positive</td>\n",
       "    </tr>\n",
       "    <tr>\n",
       "      <th>3</th>\n",
       "      <td>Basically there's a family where a little boy ...</td>\n",
       "      <td>negative</td>\n",
       "    </tr>\n",
       "    <tr>\n",
       "      <th>4</th>\n",
       "      <td>Petter Mattei's \"Love in the Time of Money\" is...</td>\n",
       "      <td>positive</td>\n",
       "    </tr>\n",
       "  </tbody>\n",
       "</table>\n",
       "</div>"
      ],
      "text/plain": [
       "                                              review sentiment\n",
       "0  One of the other reviewers has mentioned that ...  positive\n",
       "1  A wonderful little production. <br /><br />The...  positive\n",
       "2  I thought this was a wonderful way to spend ti...  positive\n",
       "3  Basically there's a family where a little boy ...  negative\n",
       "4  Petter Mattei's \"Love in the Time of Money\" is...  positive"
      ]
     },
     "execution_count": 2,
     "metadata": {},
     "output_type": "execute_result"
    }
   ],
   "source": [
    "df = pd.read_csv(\"./DATA/IMDB.csv\")\n",
    "df.head()"
   ]
  },
  {
   "cell_type": "code",
   "execution_count": 3,
   "metadata": {},
   "outputs": [
    {
     "name": "stdout",
     "output_type": "stream",
     "text": [
      "[\"One of the other reviewers has mentioned that after watching just 1 Oz episode you'll be hooked. They are right, as this is exactly what happened with me.<br /><br />The first thing that struck me about Oz was its brutality and unflinching scenes of violence, which set in right from the word GO. Trust me, this is not a show for the faint hearted or timid. This show pulls no punches with regards to drugs, sex or violence. Its is hardcore, in the classic use of the word.<br /><br />It is called OZ as that is the nickname given to the Oswald Maximum Security State Penitentary. It focuses mainly on Emerald City, an experimental section of the prison where all the cells have glass fronts and face inwards, so privacy is not high on the agenda. Em City is home to many..Aryans, Muslims, gangstas, Latinos, Christians, Italians, Irish and more....so scuffles, death stares, dodgy dealings and shady agreements are never far away.<br /><br />I would say the main appeal of the show is due to the fact that it goes where other shows wouldn't dare. Forget pretty pictures painted for mainstream audiences, forget charm, forget romance...OZ doesn't mess around. The first episode I ever saw struck me as so nasty it was surreal, I couldn't say I was ready for it, but as I watched more, I developed a taste for Oz, and got accustomed to the high levels of graphic violence. Not just violence, but injustice (crooked guards who'll be sold out for a nickel, inmates who'll kill on order and get away with it, well mannered, middle class inmates being turned into prison bitches due to their lack of street skills or prison experience) Watching Oz, you may become comfortable with what is uncomfortable viewing....thats if you can get in touch with your darker side.\"\n",
      " 'A wonderful little production. <br /><br />The filming technique is very unassuming- very old-time-BBC fashion and gives a comforting, and sometimes discomforting, sense of realism to the entire piece. <br /><br />The actors are extremely well chosen- Michael Sheen not only \"has got all the polari\" but he has all the voices down pat too! You can truly see the seamless editing guided by the references to Williams\\' diary entries, not only is it well worth the watching but it is a terrificly written and performed piece. A masterful production about one of the great master\\'s of comedy and his life. <br /><br />The realism really comes home with the little things: the fantasy of the guard which, rather than use the traditional \\'dream\\' techniques remains solid then disappears. It plays on our knowledge and our senses, particularly with the scenes concerning Orton and Halliwell and the sets (particularly of their flat with Halliwell\\'s murals decorating every surface) are terribly well done.'\n",
      " 'I thought this was a wonderful way to spend time on a too hot summer weekend, sitting in the air conditioned theater and watching a light-hearted comedy. The plot is simplistic, but the dialogue is witty and the characters are likable (even the well bread suspected serial killer). While some may be disappointed when they realize this is not Match Point 2: Risk Addiction, I thought it was proof that Woody Allen is still fully in control of the style many of us have grown to love.<br /><br />This was the most I\\'d laughed at one of Woody\\'s comedies in years (dare I say a decade?). While I\\'ve never been impressed with Scarlet Johanson, in this she managed to tone down her \"sexy\" image and jumped right into a average, but spirited young woman.<br /><br />This may not be the crown jewel of his career, but it was wittier than \"Devil Wears Prada\" and more interesting than \"Superman\" a great comedy to go see with friends.'\n",
      " \"Basically there's a family where a little boy (Jake) thinks there's a zombie in his closet & his parents are fighting all the time.<br /><br />This movie is slower than a soap opera... and suddenly, Jake decides to become Rambo and kill the zombie.<br /><br />OK, first of all when you're going to make a film you must Decide if its a thriller or a drama! As a drama the movie is watchable. Parents are divorcing & arguing like in real life. And then we have Jake with his closet which totally ruins all the film! I expected to see a BOOGEYMAN similar movie, and instead i watched a drama with some meaningless thriller spots.<br /><br />3 out of 10 just for the well playing parents & descent dialogs. As for the shots with Jake: just ignore them.\"\n",
      " 'Petter Mattei\\'s \"Love in the Time of Money\" is a visually stunning film to watch. Mr. Mattei offers us a vivid portrait about human relations. This is a movie that seems to be telling us what money, power and success do to people in the different situations we encounter. <br /><br />This being a variation on the Arthur Schnitzler\\'s play about the same theme, the director transfers the action to the present time New York where all these different characters meet and connect. Each one is connected in one way, or another to the next person, but no one seems to know the previous point of contact. Stylishly, the film has a sophisticated luxurious look. We are taken to see how these people live and the world they live in their own habitat.<br /><br />The only thing one gets out of all these souls in the picture is the different stages of loneliness each one inhabits. A big city is not exactly the best place in which human relations find sincere fulfillment, as one discerns is the case with most of the people we encounter.<br /><br />The acting is good under Mr. Mattei\\'s direction. Steve Buscemi, Rosario Dawson, Carol Kane, Michael Imperioli, Adrian Grenier, and the rest of the talented cast, make these characters come alive.<br /><br />We wish Mr. Mattei good luck and await anxiously for his next work.']\n"
     ]
    }
   ],
   "source": [
    "texts = df.review.values\n",
    "print(texts[:5])"
   ]
  },
  {
   "cell_type": "code",
   "execution_count": 4,
   "metadata": {},
   "outputs": [
    {
     "name": "stdout",
     "output_type": "stream",
     "text": [
      "['one review mention watch 1 oz episod hooked. right  exactli happen me.         first thing struck oz brutal unflinch scene violenc  set right word go. trust  show faint heart timid. show pull punch regard drug  sex violence. hardcor  classic use word.         call oz nicknam given oswald maximum secur state penitentary. focus mainli emerald citi  experiment section prison cell glass front face inward  privaci high agenda. em citi home many..aryan  muslim  gangsta  latino  christian  italian  irish ... .so scuffl  death stare  dodgi deal shadi agreement never far away.         would say main appeal show due fact goe show would dare. forget pretti pictur paint mainstream audienc  forget charm  forget romanc ... oz mess around. first episod ever saw struck nasti surreal  could say readi  watch  develop tast oz  got accustom high level graphic violence. violenc  injustic  crook guard sold nickel  inmat kill order get away  well manner  middl class inmat turn prison bitch due lack street skill prison experi  watch oz  may becom comfort uncomfort view ... .that get touch darker side ', \"wonder littl production.         film techniqu unassuming- old-time-bbc fashion give comfort  sometim discomfort  sens realism entir piece.         actor extrem well chosen- michael sheen `` got polari '' voic pat  truli see seamless edit guid refer william  diari entri  well worth watch terrificli written perform piece. master product one great master comedi life.         realism realli come home littl thing  fantasi guard  rather use tradit 'dream  techniqu remain solid disappears. play knowledg sens  particularli scene concern orton halliwel set  particularli flat halliwel mural decor everi surfac  terribl well done \", \"thought wonder way spend time hot summer weekend  sit air condit theater watch light-heart comedy. plot simplist  dialogu witti charact likabl  even well bread suspect serial killer   may disappoint realiz match point 2  risk addict  thought proof woodi allen still fulli control style mani us grown love.         'd laugh one woodi comedi year  dare say decad    never impress scarlet johanson  manag tone `` sexi '' imag jump right averag  spirit young woman.         may crown jewel career  wittier `` devil wear prada '' interest `` superman '' great comedi go see friend \", 'basic famili littl boy  jake  think zombi closet  parent fight time.         movi slower soap opera ... suddenli  jake decid becom rambo kill zombie.         ok  first go make film must decid thriller drama  drama movi watchable. parent divorc  argu like real life. jake closet total ruin film  expect see boogeyman similar movi  instead watch drama meaningless thriller spots.         3 10 well play parent  descent dialogs. shot jake  ignor ', \"petter mattei `` love time money '' visual stun film watch. mister mattei offer us vivid portrait human relations. movi seem tell us money  power success peopl differ situat encounter.         variat arthur schnitzler play theme  director transfer action present time new york differ charact meet connect. one connect one way  anoth next person  one seem know previou point contact. stylishli  film sophist luxuri look. taken see peopl live world live habitat.         thing one get soul pictur differ stage loneli one inhabits. big citi exactli best place human relat find sincer fulfil  one discern case peopl encounter.         act good mister mattei direction. steve buscemi  rosario dawson  carol kane  michael imperioli  adrian grenier  rest talent cast  make charact come alive.         wish mister mattei good luck await anxious next work \"]\n"
     ]
    }
   ],
   "source": [
    "texts = preprocess(texts, stem=True)\n",
    "print(texts[:5])"
   ]
  },
  {
   "cell_type": "code",
   "execution_count": 5,
   "metadata": {},
   "outputs": [],
   "source": [
    "sentiments = df[\"sentiment\"].values"
   ]
  },
  {
   "cell_type": "code",
   "execution_count": 6,
   "metadata": {},
   "outputs": [
    {
     "name": "stdout",
     "output_type": "stream",
     "text": [
      "Length of reviews in training set : 37500\n",
      "Length of sentiments in training set : 37500\n",
      "----------\n",
      "Length of reviews in test set : 12500\n",
      "Length of sentiments in test set : 12500\n"
     ]
    }
   ],
   "source": [
    "# Split the data\n",
    "Xtrain, Xtest, ytrain, ytest = train_test_split(texts, sentiments)\n",
    "\n",
    "print(f\"Length of reviews in training set : {len(Xtrain)}\")\n",
    "print(f\"Length of sentiments in training set : {len(ytrain)}\")\n",
    "print(\"-\"*10)\n",
    "print(f\"Length of reviews in test set : {len(Xtest)}\")\n",
    "print(f\"Length of sentiments in test set : {len(ytest)}\")"
   ]
  },
  {
   "cell_type": "code",
   "execution_count": 7,
   "metadata": {},
   "outputs": [],
   "source": [
    "tfidf_1gram = TfidfVectorizer(min_df=5, max_df=0.5)\n",
    "tfidf_2gram = TfidfVectorizer(min_df=5, max_df=0.5, ngram_range=(1, 2))\n",
    "\n",
    "logreg_1gram = LogisticRegression()\n",
    "logreg_2gram = LogisticRegression()"
   ]
  },
  {
   "cell_type": "code",
   "execution_count": 8,
   "metadata": {},
   "outputs": [],
   "source": [
    "features_1gram_train = tfidf_1gram.fit_transform(Xtrain)\n",
    "features_1gram_test = tfidf_1gram.transform(Xtest)"
   ]
  },
  {
   "cell_type": "code",
   "execution_count": 9,
   "metadata": {},
   "outputs": [
    {
     "name": "stdout",
     "output_type": "stream",
     "text": [
      "Score on Training data : 0.9267733333333333\n",
      "Score on Test data : 0.89192\n"
     ]
    }
   ],
   "source": [
    "# Fit Logistic regression on 1 grams\n",
    "logreg_1gram.fit(features_1gram_train, ytrain)\n",
    "\n",
    "print(f\"Score on Training data : {logreg_1gram.score(features_1gram_train, ytrain)}\")\n",
    "print(f\"Score on Test data : {logreg_1gram.score(features_1gram_test, ytest)}\")"
   ]
  },
  {
   "cell_type": "code",
   "execution_count": 10,
   "metadata": {},
   "outputs": [],
   "source": [
    "features_2gram_train = tfidf_2gram.fit_transform(Xtrain)\n",
    "features_2gram_test = tfidf_2gram.transform(Xtest)"
   ]
  },
  {
   "cell_type": "code",
   "execution_count": 11,
   "metadata": {},
   "outputs": [
    {
     "name": "stdout",
     "output_type": "stream",
     "text": [
      "Score on Traininig data : 0.9446933333333334\n",
      "Score on Test data : 0.89512\n"
     ]
    }
   ],
   "source": [
    "# Fit Logistic regression on 2grams\n",
    "logreg_2gram.fit(features_2gram_train, ytrain)\n",
    "\n",
    "print(f\"Score on Traininig data : {logreg_2gram.score(features_2gram_train, ytrain)}\")\n",
    "print(f\"Score on Test data : {logreg_2gram.score(features_2gram_test, ytest)}\")"
   ]
  },
  {
   "cell_type": "code",
   "execution_count": 14,
   "metadata": {},
   "outputs": [],
   "source": [
    "result_1gram = pd.DataFrame({\"text\":tfidf_1gram.get_feature_names(), \"weights\":logreg_1gram.coef_.reshape(-1,)})\n",
    "result_1gram = result_1gram.sort_values(by=\"weights\", ascending=False)"
   ]
  },
  {
   "cell_type": "code",
   "execution_count": 15,
   "metadata": {},
   "outputs": [],
   "source": [
    "result_2gram = pd.DataFrame({\"text\":tfidf_2gram.get_feature_names(), \"weights\":logreg_2gram.coef_.reshape(-1,)})\n",
    "result_2gram = result_2gram.sort_values(by=\"weights\", ascending=False)"
   ]
  },
  {
   "cell_type": "code",
   "execution_count": 16,
   "metadata": {},
   "outputs": [
    {
     "data": {
      "text/html": [
       "<div>\n",
       "<style scoped>\n",
       "    .dataframe tbody tr th:only-of-type {\n",
       "        vertical-align: middle;\n",
       "    }\n",
       "\n",
       "    .dataframe tbody tr th {\n",
       "        vertical-align: top;\n",
       "    }\n",
       "\n",
       "    .dataframe thead th {\n",
       "        text-align: right;\n",
       "    }\n",
       "</style>\n",
       "<table border=\"1\" class=\"dataframe\">\n",
       "  <thead>\n",
       "    <tr style=\"text-align: right;\">\n",
       "      <th></th>\n",
       "      <th>text</th>\n",
       "      <th>weights</th>\n",
       "    </tr>\n",
       "  </thead>\n",
       "  <tbody>\n",
       "    <tr>\n",
       "      <th>10096</th>\n",
       "      <td>great</td>\n",
       "      <td>7.785242</td>\n",
       "    </tr>\n",
       "    <tr>\n",
       "      <th>8070</th>\n",
       "      <td>excel</td>\n",
       "      <td>7.137094</td>\n",
       "    </tr>\n",
       "    <tr>\n",
       "      <th>2462</th>\n",
       "      <td>best</td>\n",
       "      <td>5.581592</td>\n",
       "    </tr>\n",
       "    <tr>\n",
       "      <th>17327</th>\n",
       "      <td>perfect</td>\n",
       "      <td>5.524824</td>\n",
       "    </tr>\n",
       "    <tr>\n",
       "      <th>7736</th>\n",
       "      <td>enjoy</td>\n",
       "      <td>5.442074</td>\n",
       "    </tr>\n",
       "  </tbody>\n",
       "</table>\n",
       "</div>"
      ],
      "text/plain": [
       "          text   weights\n",
       "10096    great  7.785242\n",
       "8070     excel  7.137094\n",
       "2462      best  5.581592\n",
       "17327  perfect  5.524824\n",
       "7736     enjoy  5.442074"
      ]
     },
     "execution_count": 16,
     "metadata": {},
     "output_type": "execute_result"
    }
   ],
   "source": [
    "# print top 5 words in positive place for 1 gram\n",
    "result_1gram.head(5)"
   ]
  },
  {
   "cell_type": "code",
   "execution_count": 17,
   "metadata": {},
   "outputs": [
    {
     "data": {
      "text/html": [
       "<div>\n",
       "<style scoped>\n",
       "    .dataframe tbody tr th:only-of-type {\n",
       "        vertical-align: middle;\n",
       "    }\n",
       "\n",
       "    .dataframe tbody tr th {\n",
       "        vertical-align: top;\n",
       "    }\n",
       "\n",
       "    .dataframe thead th {\n",
       "        text-align: right;\n",
       "    }\n",
       "</style>\n",
       "<table border=\"1\" class=\"dataframe\">\n",
       "  <thead>\n",
       "    <tr style=\"text-align: right;\">\n",
       "      <th></th>\n",
       "      <th>text</th>\n",
       "      <th>weights</th>\n",
       "    </tr>\n",
       "  </thead>\n",
       "  <tbody>\n",
       "    <tr>\n",
       "      <th>2918</th>\n",
       "      <td>bore</td>\n",
       "      <td>-7.038613</td>\n",
       "    </tr>\n",
       "    <tr>\n",
       "      <th>1817</th>\n",
       "      <td>aw</td>\n",
       "      <td>-7.063951</td>\n",
       "    </tr>\n",
       "    <tr>\n",
       "      <th>1925</th>\n",
       "      <td>bad</td>\n",
       "      <td>-8.399024</td>\n",
       "    </tr>\n",
       "    <tr>\n",
       "      <th>25450</th>\n",
       "      <td>wast</td>\n",
       "      <td>-9.028823</td>\n",
       "    </tr>\n",
       "    <tr>\n",
       "      <th>25975</th>\n",
       "      <td>worst</td>\n",
       "      <td>-10.769187</td>\n",
       "    </tr>\n",
       "  </tbody>\n",
       "</table>\n",
       "</div>"
      ],
      "text/plain": [
       "        text    weights\n",
       "2918    bore  -7.038613\n",
       "1817      aw  -7.063951\n",
       "1925     bad  -8.399024\n",
       "25450   wast  -9.028823\n",
       "25975  worst -10.769187"
      ]
     },
     "execution_count": 17,
     "metadata": {},
     "output_type": "execute_result"
    }
   ],
   "source": [
    "# print bottom 5 words in negative place for 1 gram\n",
    "result_1gram.tail(5)"
   ]
  },
  {
   "cell_type": "code",
   "execution_count": 18,
   "metadata": {},
   "outputs": [
    {
     "data": {
      "text/html": [
       "<div>\n",
       "<style scoped>\n",
       "    .dataframe tbody tr th:only-of-type {\n",
       "        vertical-align: middle;\n",
       "    }\n",
       "\n",
       "    .dataframe tbody tr th {\n",
       "        vertical-align: top;\n",
       "    }\n",
       "\n",
       "    .dataframe thead th {\n",
       "        text-align: right;\n",
       "    }\n",
       "</style>\n",
       "<table border=\"1\" class=\"dataframe\">\n",
       "  <thead>\n",
       "    <tr style=\"text-align: right;\">\n",
       "      <th></th>\n",
       "      <th>text</th>\n",
       "      <th>weights</th>\n",
       "    </tr>\n",
       "  </thead>\n",
       "  <tbody>\n",
       "    <tr>\n",
       "      <th>52708</th>\n",
       "      <td>great</td>\n",
       "      <td>8.971438</td>\n",
       "    </tr>\n",
       "    <tr>\n",
       "      <th>38359</th>\n",
       "      <td>excel</td>\n",
       "      <td>7.399745</td>\n",
       "    </tr>\n",
       "    <tr>\n",
       "      <th>72438</th>\n",
       "      <td>love</td>\n",
       "      <td>6.039971</td>\n",
       "    </tr>\n",
       "    <tr>\n",
       "      <th>12487</th>\n",
       "      <td>best</td>\n",
       "      <td>5.863861</td>\n",
       "    </tr>\n",
       "    <tr>\n",
       "      <th>35186</th>\n",
       "      <td>enjoy</td>\n",
       "      <td>5.851382</td>\n",
       "    </tr>\n",
       "  </tbody>\n",
       "</table>\n",
       "</div>"
      ],
      "text/plain": [
       "        text   weights\n",
       "52708  great  8.971438\n",
       "38359  excel  7.399745\n",
       "72438   love  6.039971\n",
       "12487   best  5.863861\n",
       "35186  enjoy  5.851382"
      ]
     },
     "execution_count": 18,
     "metadata": {},
     "output_type": "execute_result"
    }
   ],
   "source": [
    "# print top 5 words in positive place for 2 gram\n",
    "result_2gram.head(5)"
   ]
  },
  {
   "cell_type": "code",
   "execution_count": 19,
   "metadata": {},
   "outputs": [
    {
     "data": {
      "text/html": [
       "<div>\n",
       "<style scoped>\n",
       "    .dataframe tbody tr th:only-of-type {\n",
       "        vertical-align: middle;\n",
       "    }\n",
       "\n",
       "    .dataframe tbody tr th {\n",
       "        vertical-align: top;\n",
       "    }\n",
       "\n",
       "    .dataframe thead th {\n",
       "        text-align: right;\n",
       "    }\n",
       "</style>\n",
       "<table border=\"1\" class=\"dataframe\">\n",
       "  <thead>\n",
       "    <tr style=\"text-align: right;\">\n",
       "      <th></th>\n",
       "      <th>text</th>\n",
       "      <th>weights</th>\n",
       "    </tr>\n",
       "  </thead>\n",
       "  <tbody>\n",
       "    <tr>\n",
       "      <th>9315</th>\n",
       "      <td>aw</td>\n",
       "      <td>-7.074951</td>\n",
       "    </tr>\n",
       "    <tr>\n",
       "      <th>14760</th>\n",
       "      <td>bore</td>\n",
       "      <td>-7.466444</td>\n",
       "    </tr>\n",
       "    <tr>\n",
       "      <th>134669</th>\n",
       "      <td>wast</td>\n",
       "      <td>-8.501928</td>\n",
       "    </tr>\n",
       "    <tr>\n",
       "      <th>10107</th>\n",
       "      <td>bad</td>\n",
       "      <td>-10.086912</td>\n",
       "    </tr>\n",
       "    <tr>\n",
       "      <th>139679</th>\n",
       "      <td>worst</td>\n",
       "      <td>-10.277416</td>\n",
       "    </tr>\n",
       "  </tbody>\n",
       "</table>\n",
       "</div>"
      ],
      "text/plain": [
       "         text    weights\n",
       "9315       aw  -7.074951\n",
       "14760    bore  -7.466444\n",
       "134669   wast  -8.501928\n",
       "10107     bad -10.086912\n",
       "139679  worst -10.277416"
      ]
     },
     "execution_count": 19,
     "metadata": {},
     "output_type": "execute_result"
    }
   ],
   "source": [
    "# print bottom 5 words in negative place for 2 gram\n",
    "result_2gram.tail(5)"
   ]
  },
  {
   "cell_type": "code",
   "execution_count": 20,
   "metadata": {},
   "outputs": [
    {
     "name": "stdout",
     "output_type": "stream",
     "text": [
      "Review : ['negative']\n"
     ]
    }
   ],
   "source": [
    "# Test a sample\n",
    "sample_txt = [\"This is the worst movie\"]\n",
    "sample_txt = preprocess(sample_txt)\n",
    "\n",
    "_features = tfidf_2gram.transform(sample_txt)\n",
    "print(f\"Review : {logreg_2gram.predict(_features)}\")"
   ]
  },
  {
   "cell_type": "code",
   "execution_count": 22,
   "metadata": {},
   "outputs": [
    {
     "name": "stdout",
     "output_type": "stream",
     "text": [
      "Review : ['positive']\n"
     ]
    }
   ],
   "source": [
    "# Test a sample\n",
    "sample_txt2 = [\"This is the best movie\"]\n",
    "sample_txt2 = preprocess(sample_txt2)\n",
    "\n",
    "_features2 = tfidf_2gram.transform(sample_txt2)\n",
    "print(f\"Review : {logreg_2gram.predict(_features2)}\")"
   ]
  },
  {
   "cell_type": "code",
   "execution_count": 24,
   "metadata": {},
   "outputs": [
    {
     "data": {
      "text/plain": [
       "['./MODELS/TFIDF_2_grams.sav']"
      ]
     },
     "execution_count": 24,
     "metadata": {},
     "output_type": "execute_result"
    }
   ],
   "source": [
    "# Save the model\n",
    "\n",
    "if not os.path.exists(\"./MODELS/\"):\n",
    "    os.mkdir(\"./MODELS/\")\n",
    "    \n",
    "joblib.dump(logreg_2gram,\"./MODELS/Logistic_regression_2_grams.sav\")\n",
    "joblib.dump(logreg_1gram, \"./MODELS/Logistic_regression_1_grams.sav\")\n",
    "\n",
    "joblib.dump(tfidf_1gram, \"./MODELS/TFIDF_1_grams.sav\")\n",
    "joblib.dump(tfidf_2gram, \"./MODELS/TFIDF_2_grams.sav\")"
   ]
  },
  {
   "cell_type": "code",
   "execution_count": null,
   "metadata": {},
   "outputs": [],
   "source": []
  }
 ],
 "metadata": {
  "kernelspec": {
   "display_name": "Python 3",
   "language": "python",
   "name": "python3"
  },
  "language_info": {
   "codemirror_mode": {
    "name": "ipython",
    "version": 3
   },
   "file_extension": ".py",
   "mimetype": "text/x-python",
   "name": "python",
   "nbconvert_exporter": "python",
   "pygments_lexer": "ipython3",
   "version": "3.8.3"
  }
 },
 "nbformat": 4,
 "nbformat_minor": 4
}
